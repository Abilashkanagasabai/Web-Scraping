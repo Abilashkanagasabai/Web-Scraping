{
 "cells": [
  {
   "cell_type": "code",
   "execution_count": 1,
   "metadata": {},
   "outputs": [],
   "source": [
    "from bs4 import BeautifulSoup\n",
    "import requests\n",
    "\n"
   ]
  },
  {
   "cell_type": "code",
   "execution_count": 2,
   "metadata": {},
   "outputs": [],
   "source": [
    "URL=\"https://www.flipkart.com/search?q=oneplus&sid=tyy%2C4io&as=on&as-show=on&otracker=AS_QueryStore_OrganicAutoSuggest_1_3_na_na_pr&otracker1=AS_QueryStore_OrganicAutoSuggest_1_3_na_na_pr&as-pos=1&as-type=RECENT&suggestionId=oneplus%7Cin+Mobiles&requestId=c913e6fb-570f-4a35-a927-5970ee59606c&as-backfill=on\""
   ]
  },
  {
   "cell_type": "code",
   "execution_count": 3,
   "metadata": {},
   "outputs": [],
   "source": [
    "req_data = requests.get(URL)\n",
    "review_soup = BeautifulSoup(req_data.content, 'html.parser')"
   ]
  },
  {
   "cell_type": "code",
   "execution_count": null,
   "metadata": {},
   "outputs": [],
   "source": []
  },
  {
   "cell_type": "code",
   "execution_count": 4,
   "metadata": {},
   "outputs": [],
   "source": [
    "name=review_soup.find_all('div', {'class':'_3wU53n'})"
   ]
  },
  {
   "cell_type": "code",
   "execution_count": 5,
   "metadata": {},
   "outputs": [],
   "source": [
    "item_name=[]\n",
    "for i in range(18):\n",
    "    item_name.append(name[i].get_text())"
   ]
  },
  {
   "cell_type": "code",
   "execution_count": 6,
   "metadata": {},
   "outputs": [
    {
     "data": {
      "text/plain": [
       "['OnePlus 7T (Frosted Silver, 128 GB)',\n",
       " 'OnePlus 7T (Glacier Blue, 128 GB)',\n",
       " 'OnePlus 7T (Glacier Blue, 256 GB)',\n",
       " 'OnePlus 7 (Mirror Blue, 128 GB)',\n",
       " 'OnePlus 7T Pro (Haze Blue, 256 GB)',\n",
       " 'OnePlus 7 Pro (Almond, 256 GB)',\n",
       " 'OnePlus 7 Pro (Mirror Grey, 256 GB)',\n",
       " 'OnePlus 7 Pro (Mirror Grey, 128 GB)',\n",
       " 'OnePlus 7 (Red, 256 GB)',\n",
       " 'OnePlus 7 Pro (Nebula Blue, 256 GB)',\n",
       " 'OnePlus OnePlus 5 (Slate Gray, 128 GB)',\n",
       " 'OnePlus 7 (Mirror Grey, 128 GB)',\n",
       " 'OnePlus 7T (Frosted Silver, 256 GB)',\n",
       " 'OnePlus 7 (Mirror Grey, 256 GB)',\n",
       " 'OnePlus 7 Pro (Nebula Blue, 256 GB)',\n",
       " 'OnePlus 6T (Mirror Black, 128 GB)',\n",
       " 'OnePlus 6T (Speed Orange, 256 GB)',\n",
       " 'OnePlus 6T (Mirror Black, 128 GB)']"
      ]
     },
     "execution_count": 6,
     "metadata": {},
     "output_type": "execute_result"
    }
   ],
   "source": [
    "item_name"
   ]
  },
  {
   "cell_type": "code",
   "execution_count": 7,
   "metadata": {},
   "outputs": [],
   "source": [
    "rating=review_soup.find_all('span', {'class':'_2_KrJI'})\n",
    "item_rating=[]\n",
    "for i in range(18):\n",
    "    item_rating.append(rating[i].get_text())"
   ]
  },
  {
   "cell_type": "code",
   "execution_count": 8,
   "metadata": {},
   "outputs": [
    {
     "data": {
      "text/plain": [
       "['4.6',\n",
       " '4.6',\n",
       " '4.6',\n",
       " '4.6',\n",
       " '4.5',\n",
       " '4.4',\n",
       " '4.4',\n",
       " '4.6',\n",
       " '4.6',\n",
       " '4.4',\n",
       " '4.4',\n",
       " '4.6',\n",
       " '4.6',\n",
       " '4.6',\n",
       " '4.5',\n",
       " '4.2',\n",
       " '4.5',\n",
       " '4.5']"
      ]
     },
     "execution_count": 8,
     "metadata": {},
     "output_type": "execute_result"
    }
   ],
   "source": [
    "item_rating"
   ]
  },
  {
   "cell_type": "code",
   "execution_count": 9,
   "metadata": {},
   "outputs": [],
   "source": [
    "price=review_soup.find_all('div', {'class':'_1vC4OE _2rQ-NK'})\n",
    "item_price=[]\n",
    "for i in range(18):\n",
    "    item_price.append(price[i].get_text())"
   ]
  },
  {
   "cell_type": "code",
   "execution_count": 10,
   "metadata": {},
   "outputs": [],
   "source": [
    "import pandas as pd\n",
    "details=pd.DataFrame({'name':item_name,'price':item_price,'rating':item_rating})"
   ]
  },
  {
   "cell_type": "code",
   "execution_count": 13,
   "metadata": {},
   "outputs": [
    {
     "data": {
      "text/html": [
       "<div>\n",
       "<style scoped>\n",
       "    .dataframe tbody tr th:only-of-type {\n",
       "        vertical-align: middle;\n",
       "    }\n",
       "\n",
       "    .dataframe tbody tr th {\n",
       "        vertical-align: top;\n",
       "    }\n",
       "\n",
       "    .dataframe thead th {\n",
       "        text-align: right;\n",
       "    }\n",
       "</style>\n",
       "<table border=\"1\" class=\"dataframe\">\n",
       "  <thead>\n",
       "    <tr style=\"text-align: right;\">\n",
       "      <th></th>\n",
       "      <th>name</th>\n",
       "      <th>price</th>\n",
       "      <th>rating</th>\n",
       "    </tr>\n",
       "  </thead>\n",
       "  <tbody>\n",
       "    <tr>\n",
       "      <th>0</th>\n",
       "      <td>OnePlus 7T (Frosted Silver, 128 GB)</td>\n",
       "      <td>₹34,969</td>\n",
       "      <td>4.6</td>\n",
       "    </tr>\n",
       "    <tr>\n",
       "      <th>1</th>\n",
       "      <td>OnePlus 7T (Glacier Blue, 128 GB)</td>\n",
       "      <td>₹34,950</td>\n",
       "      <td>4.6</td>\n",
       "    </tr>\n",
       "    <tr>\n",
       "      <th>2</th>\n",
       "      <td>OnePlus 7T (Glacier Blue, 256 GB)</td>\n",
       "      <td>₹37,959</td>\n",
       "      <td>4.6</td>\n",
       "    </tr>\n",
       "    <tr>\n",
       "      <th>3</th>\n",
       "      <td>OnePlus 7 (Mirror Blue, 128 GB)</td>\n",
       "      <td>₹31,999</td>\n",
       "      <td>4.6</td>\n",
       "    </tr>\n",
       "    <tr>\n",
       "      <th>4</th>\n",
       "      <td>OnePlus 7T Pro (Haze Blue, 256 GB)</td>\n",
       "      <td>₹53,589</td>\n",
       "      <td>4.5</td>\n",
       "    </tr>\n",
       "    <tr>\n",
       "      <th>5</th>\n",
       "      <td>OnePlus 7 Pro (Almond, 256 GB)</td>\n",
       "      <td>₹45,890</td>\n",
       "      <td>4.4</td>\n",
       "    </tr>\n",
       "    <tr>\n",
       "      <th>6</th>\n",
       "      <td>OnePlus 7 Pro (Mirror Grey, 256 GB)</td>\n",
       "      <td>₹44,999</td>\n",
       "      <td>4.4</td>\n",
       "    </tr>\n",
       "    <tr>\n",
       "      <th>7</th>\n",
       "      <td>OnePlus 7 Pro (Mirror Grey, 128 GB)</td>\n",
       "      <td>₹42,990</td>\n",
       "      <td>4.6</td>\n",
       "    </tr>\n",
       "    <tr>\n",
       "      <th>8</th>\n",
       "      <td>OnePlus 7 (Red, 256 GB)</td>\n",
       "      <td>₹35,999</td>\n",
       "      <td>4.6</td>\n",
       "    </tr>\n",
       "    <tr>\n",
       "      <th>9</th>\n",
       "      <td>OnePlus 7 Pro (Nebula Blue, 256 GB)</td>\n",
       "      <td>₹44,999</td>\n",
       "      <td>4.4</td>\n",
       "    </tr>\n",
       "    <tr>\n",
       "      <th>10</th>\n",
       "      <td>OnePlus OnePlus 5 (Slate Gray, 128 GB)</td>\n",
       "      <td>₹37,999</td>\n",
       "      <td>4.4</td>\n",
       "    </tr>\n",
       "    <tr>\n",
       "      <th>11</th>\n",
       "      <td>OnePlus 7 (Mirror Grey, 128 GB)</td>\n",
       "      <td>₹30,999</td>\n",
       "      <td>4.6</td>\n",
       "    </tr>\n",
       "    <tr>\n",
       "      <th>12</th>\n",
       "      <td>OnePlus 7T (Frosted Silver, 256 GB)</td>\n",
       "      <td>₹39,999</td>\n",
       "      <td>4.6</td>\n",
       "    </tr>\n",
       "    <tr>\n",
       "      <th>13</th>\n",
       "      <td>OnePlus 7 (Mirror Grey, 256 GB)</td>\n",
       "      <td>₹32,999</td>\n",
       "      <td>4.6</td>\n",
       "    </tr>\n",
       "    <tr>\n",
       "      <th>14</th>\n",
       "      <td>OnePlus 7 Pro (Nebula Blue, 256 GB)</td>\n",
       "      <td>₹49,999</td>\n",
       "      <td>4.5</td>\n",
       "    </tr>\n",
       "    <tr>\n",
       "      <th>15</th>\n",
       "      <td>OnePlus 6T (Mirror Black, 128 GB)</td>\n",
       "      <td>₹30,999</td>\n",
       "      <td>4.2</td>\n",
       "    </tr>\n",
       "    <tr>\n",
       "      <th>16</th>\n",
       "      <td>OnePlus 6T (Speed Orange, 256 GB)</td>\n",
       "      <td>₹47,999</td>\n",
       "      <td>4.5</td>\n",
       "    </tr>\n",
       "    <tr>\n",
       "      <th>17</th>\n",
       "      <td>OnePlus 6T (Mirror Black, 128 GB)</td>\n",
       "      <td>₹32,999</td>\n",
       "      <td>4.5</td>\n",
       "    </tr>\n",
       "  </tbody>\n",
       "</table>\n",
       "</div>"
      ],
      "text/plain": [
       "                                      name    price rating\n",
       "0      OnePlus 7T (Frosted Silver, 128 GB)  ₹34,969    4.6\n",
       "1        OnePlus 7T (Glacier Blue, 128 GB)  ₹34,950    4.6\n",
       "2        OnePlus 7T (Glacier Blue, 256 GB)  ₹37,959    4.6\n",
       "3          OnePlus 7 (Mirror Blue, 128 GB)  ₹31,999    4.6\n",
       "4       OnePlus 7T Pro (Haze Blue, 256 GB)  ₹53,589    4.5\n",
       "5           OnePlus 7 Pro (Almond, 256 GB)  ₹45,890    4.4\n",
       "6      OnePlus 7 Pro (Mirror Grey, 256 GB)  ₹44,999    4.4\n",
       "7      OnePlus 7 Pro (Mirror Grey, 128 GB)  ₹42,990    4.6\n",
       "8                  OnePlus 7 (Red, 256 GB)  ₹35,999    4.6\n",
       "9      OnePlus 7 Pro (Nebula Blue, 256 GB)  ₹44,999    4.4\n",
       "10  OnePlus OnePlus 5 (Slate Gray, 128 GB)  ₹37,999    4.4\n",
       "11         OnePlus 7 (Mirror Grey, 128 GB)  ₹30,999    4.6\n",
       "12     OnePlus 7T (Frosted Silver, 256 GB)  ₹39,999    4.6\n",
       "13         OnePlus 7 (Mirror Grey, 256 GB)  ₹32,999    4.6\n",
       "14     OnePlus 7 Pro (Nebula Blue, 256 GB)  ₹49,999    4.5\n",
       "15       OnePlus 6T (Mirror Black, 128 GB)  ₹30,999    4.2\n",
       "16       OnePlus 6T (Speed Orange, 256 GB)  ₹47,999    4.5\n",
       "17       OnePlus 6T (Mirror Black, 128 GB)  ₹32,999    4.5"
      ]
     },
     "execution_count": 13,
     "metadata": {},
     "output_type": "execute_result"
    }
   ],
   "source": [
    "details"
   ]
  },
  {
   "cell_type": "code",
   "execution_count": 12,
   "metadata": {},
   "outputs": [],
   "source": [
    "details.to_csv(\"one plus mobile.pdf\")"
   ]
  },
  {
   "cell_type": "code",
   "execution_count": null,
   "metadata": {},
   "outputs": [],
   "source": []
  }
 ],
 "metadata": {
  "kernelspec": {
   "display_name": "Python 3",
   "language": "python",
   "name": "python3"
  },
  "language_info": {
   "codemirror_mode": {
    "name": "ipython",
    "version": 3
   },
   "file_extension": ".py",
   "mimetype": "text/x-python",
   "name": "python",
   "nbconvert_exporter": "python",
   "pygments_lexer": "ipython3",
   "version": "3.7.4"
  }
 },
 "nbformat": 4,
 "nbformat_minor": 2
}
